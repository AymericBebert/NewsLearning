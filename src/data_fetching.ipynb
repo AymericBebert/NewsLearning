{
 "cells": [
  {
   "cell_type": "markdown",
   "metadata": {
    "collapsed": true
   },
   "source": [
    "# Data fetching\n",
    "This module is used to fetch articles from newspaper websites"
   ]
  },
  {
   "cell_type": "code",
   "execution_count": null,
   "metadata": {},
   "outputs": [],
   "source": [
    "import main"
   ]
  },
  {
   "cell_type": "code",
   "execution_count": null,
   "metadata": {
    "collapsed": true
   },
   "outputs": [],
   "source": [
    "import os\n",
    "from subprocess import call, check_output\n",
    "import glob\n",
    "import re\n",
    "\n",
    "from bs4 import BeautifulSoup\n",
    "\n",
    "from log import writeLog\n",
    "from timer import timer_start, timer_stop"
   ]
  },
  {
   "cell_type": "code",
   "execution_count": null,
   "metadata": {
    "collapsed": true
   },
   "outputs": [],
   "source": [
    "def page_to_file(page, newspaper, name):\n",
    "    \"\"\"Saves the html page in a file\"\"\"\n",
    "    if not os.path.isdir(os.path.join(\"..\", \"data\", \"webpages\", newspaper)):\n",
    "        os.makedirs(os.path.join(\"..\", \"data\", \"webpages\", newspaper))\n",
    "    f = open(os.path.join(\"..\", \"data\", \"webpages\", newspaper, name + \".html\"), \"w\")\n",
    "    f.write(page)\n",
    "    f.close()\n",
    "    writeLog(\"debug\", \"webpages/{}/{}.html saved!\".format(newspaper, name))"
   ]
  },
  {
   "cell_type": "code",
   "execution_count": null,
   "metadata": {
    "collapsed": true
   },
   "outputs": [],
   "source": [
    "def article_to_file(page, newspaper, name):\n",
    "    \"\"\"Saves the html page in a file\"\"\"\n",
    "    if not os.path.isdir(os.path.join(\"..\", \"data\", \"articles\", newspaper)):\n",
    "        os.makedirs(os.path.join(\"..\", \"data\", \"articles\", newspaper))\n",
    "    f = open(os.path.join(\"..\", \"data\", \"articles\", newspaper, name + \".txt\"), \"w\")\n",
    "    f.write(page)\n",
    "    f.close()\n",
    "    writeLog(\"debug\", \"articles/{}/{}.txt saved!\".format(newspaper, name))"
   ]
  },
  {
   "cell_type": "code",
   "execution_count": null,
   "metadata": {
    "collapsed": true
   },
   "outputs": [],
   "source": [
    "def url_to_name(newspaper, url):\n",
    "    \"\"\"Make an article name with url\"\"\"\n",
    "    name = url\n",
    "    if newspaper == \"washingtonpost\":\n",
    "        name = \"/\".join(name.split(\"/\")[:-1])\n",
    "        if name.split(\"/\")[-1].rstrip(\"0123456789abcdef\") == \"\":\n",
    "            name = \"/\".join(name.split(\"/\")[:-1])\n",
    "    name = name.rstrip(\"0123456789-_/\")\n",
    "    name = name.split(\"/\")[-1].split(\".\")[0].replace(\"-\", \"_\")\n",
    "    return name"
   ]
  },
  {
   "cell_type": "code",
   "execution_count": null,
   "metadata": {
    "collapsed": true
   },
   "outputs": [],
   "source": [
    "def fetch_html_page(url, save=False):\n",
    "    \"\"\"Fetch the whole html page from the link\"\"\"\n",
    "    newspaper = url.split('.com')[0].split(\".\")[-1]\n",
    "    if not os.path.isdir(os.path.join(\"..\", \"data\", \"webpages\", newspaper)):\n",
    "        os.makedirs(os.path.join(\"..\", \"data\", \"webpages\", newspaper))\n",
    "    name = url_to_name(newspaper, url)\n",
    "    fname = os.path.join(\"..\", \"data\", \"webpages\", newspaper, name + \".html\")\n",
    "    if os.path.isfile(fname):\n",
    "        writeLog(\"warn\", \"File exists: \" + fname)\n",
    "        return \"\", \"\", \"\"\n",
    "    timer_start(\"Fetching {}\".format(url), True)\n",
    "    page = check_output([\"curl\", \"-s\", url]).decode(\"utf-8\")\n",
    "    timer_stop(\"Fetching {}\".format(url))\n",
    "    if save:\n",
    "        page_to_file(page, newspaper, name)\n",
    "    return page, newspaper, name"
   ]
  },
  {
   "cell_type": "code",
   "execution_count": null,
   "metadata": {
    "collapsed": true
   },
   "outputs": [],
   "source": [
    "def read_article(newspaper, name):\n",
    "    \"\"\"Opens the file and return its content\"\"\"\n",
    "    f = open(os.path.join(\"..\", \"data\", \"webpages\", newspaper, name + \".html\"), \"r\")\n",
    "    lines = f.readlines()\n",
    "    f.close()\n",
    "    return \"\\n\".join(lines)"
   ]
  },
  {
   "cell_type": "code",
   "execution_count": null,
   "metadata": {
    "collapsed": true
   },
   "outputs": [],
   "source": [
    "def extract_text_html_nytimes(text):\n",
    "    \"\"\"Retrieve the article from the html page\"\"\"\n",
    "    # Parse the html\n",
    "    soup = BeautifulSoup(text, \"html.parser\")\n",
    "    # Remove scripts and style\n",
    "    for nope in soup([\"script\", \"style\"]):\n",
    "        nope.extract()\n",
    "    ## Extract and join the text ##\n",
    "    article_lines = soup.find_all(\"p\", attrs={\"class\": \"story-body-text story-content\"})\n",
    "    clean_lines = [l.get_text().strip() for l in article_lines]\n",
    "    clean_lines = [l for l in clean_lines if l != \"\"]\n",
    "    # Assemble\n",
    "    clean_text = \"\\n\".join(clean_lines)\n",
    "    # Returns\n",
    "    return clean_text"
   ]
  },
  {
   "cell_type": "code",
   "execution_count": null,
   "metadata": {
    "collapsed": true
   },
   "outputs": [],
   "source": [
    "def extract_text_html_usatoday(text):\n",
    "    \"\"\"Retrieve the article from the html page\"\"\"\n",
    "    # Parse the html\n",
    "    soup = BeautifulSoup(text, \"html.parser\")\n",
    "    # Remove scripts and style\n",
    "    for nope in soup([\"script\", \"style\"]):\n",
    "        nope.extract()\n",
    "    ## Extract and join the text ##\n",
    "    article_lines = soup.find_all('p', attrs={\"class\" : \"p-text\"})\n",
    "    clean_lines = [l.get_text().strip() for l in article_lines]\n",
    "    clean_lines = [l for l in clean_lines if l != \"\"]\n",
    "    # Remove unwanted lines\n",
    "    lines_to_remove = [\"Related:\", \"Read more:\"]\n",
    "    clean_lines = [l for l in clean_lines if l not in lines_to_remove]\n",
    "    # Assemble\n",
    "    clean_text = \"\\n\".join(clean_lines)\n",
    "    # Junk chunks\n",
    "    clean_text = clean_text.replace(\"USA TODAY\", \"\")\n",
    "    # Returns\n",
    "    return clean_text"
   ]
  },
  {
   "cell_type": "code",
   "execution_count": null,
   "metadata": {
    "collapsed": true
   },
   "outputs": [],
   "source": [
    "def extract_text_html_washingtonpost(text):\n",
    "    \"\"\"Retrieve the article from the html page\"\"\"\n",
    "    # Parse the html\n",
    "    soup = BeautifulSoup(text, \"html.parser\")\n",
    "    # Remove scripts and style\n",
    "    for nope in soup([\"script\", \"style\"]):\n",
    "        nope.extract()\n",
    "    ## Extract and join the text ##\n",
    "    article_lines = soup.find_all('article')[0].find_all('p', attrs={\"class\" : \"\"})\n",
    "    clean_lines = [l.get_text().strip() for l in article_lines]\n",
    "    clean_lines = [l for l in clean_lines if l != \"\"]\n",
    "    # Assemble\n",
    "    clean_text = \"\\n\".join(clean_lines)\n",
    "    # Returns\n",
    "    return clean_text"
   ]
  },
  {
   "cell_type": "code",
   "execution_count": null,
   "metadata": {
    "collapsed": true
   },
   "outputs": [],
   "source": [
    "def extract_text_html(text, newspaper):\n",
    "    \"\"\"Retrieve the article from the html page, depends on the newpaper\"\"\"\n",
    "    handlers = {\"nytimes\": extract_text_html_nytimes,\n",
    "                \"usatoday\": extract_text_html_usatoday,\n",
    "                \"washingtonpost\": extract_text_html_washingtonpost}\n",
    "    if newspaper in handlers:\n",
    "        return handlers[newspaper](text)\n",
    "    else:\n",
    "        writeLog(\"error\", \"Unhandled newspaper: {}\".format(newspaper))\n",
    "        return \"\""
   ]
  },
  {
   "cell_type": "code",
   "execution_count": null,
   "metadata": {
    "collapsed": true
   },
   "outputs": [],
   "source": [
    "def test_article(newspaper, name):\n",
    "    page = read_article(newspaper, name)\n",
    "    art = extract_text_html(page, newspaper)\n",
    "    print(art)"
   ]
  },
  {
   "cell_type": "code",
   "execution_count": null,
   "metadata": {
    "collapsed": true
   },
   "outputs": [],
   "source": [
    "def all_articles_to_files(newspaper, verbose=False):\n",
    "    webpages = glob.glob(\"../data/webpages/{}/*.html\".format(newspaper))\n",
    "\n",
    "    for wp in webpages:\n",
    "        name = os.path.splitext(os.path.split(wp)[1])[0]\n",
    "        page = read_article(newspaper, name)\n",
    "        try:\n",
    "            art = extract_text_html(page, newspaper)\n",
    "        except Exception as e:\n",
    "            writeLog(\"error\", \"{}/{} error: {}\".format(newspaper, name, e))\n",
    "            writeLog(\"debug\", page)\n",
    "            return None\n",
    "        article_to_file(art, newspaper, name)\n",
    "        if verbose:\n",
    "            print(art + \"\\n\\n-----\\n\")"
   ]
  },
  {
   "cell_type": "code",
   "execution_count": null,
   "metadata": {
    "collapsed": true
   },
   "outputs": [],
   "source": [
    "def clean_article(art):\n",
    "    art = re.sub(\"[,.…:“”—]\", \"\", art)\n",
    "    art = re.sub(\"['’’\\\"]\", \" \", art)\n",
    "    return art"
   ]
  },
  {
   "cell_type": "code",
   "execution_count": null,
   "metadata": {
    "collapsed": true
   },
   "outputs": [],
   "source": [
    "def all_articles_to_corpus():\n",
    "    newspapers = os.listdir(\"../data/articles\")\n",
    "    corpus = open(\"../data/articles.txt\", \"w\")\n",
    "    sources = open(\"../data/sources.txt\", \"w\")\n",
    "\n",
    "    for newspaper in newspapers:\n",
    "        articles = glob.glob(\"../data/articles/{}/*.txt\".format(newspaper))\n",
    "        \n",
    "        for article in articles:\n",
    "            art = \" \".join(open(article).read().splitlines())\n",
    "            corpus.write(clean_article(art))\n",
    "            corpus.write(\"\\n\")\n",
    "            sources.write(article[len(\"../data/articles/\"):-4] + \"\\n\")\n",
    "    \n",
    "    corpus.close()\n",
    "    sources.close()"
   ]
  },
  {
   "cell_type": "code",
   "execution_count": null,
   "metadata": {
    "collapsed": true
   },
   "outputs": [],
   "source": [
    "# fetch_html_page(\"https://www.nytimes.com/2017/07/26/us/politics/trump-transgender-military.html\", True)\n",
    "# fetch_html_page(\"https://www.nytimes.com/2017/07/26/us/politics/white-house-aides-think-trump-will-let-sessions-stay-for-now.html\", True)\n",
    "# fetch_html_page(\"https://www.nytimes.com/2017/07/26/us/politics/lisa-murkowski-health-care.html\", True)\n",
    "# fetch_html_page(\"https://www.nytimes.com/2017/07/27/us/politics/scaramucci-leaks-priebus-white-house-justice.html\", True)\n",
    "# fetch_html_page(\"https://www.nytimes.com/2017/07/26/us/politics/trump-transgender-military.html\", True)\n",
    "# fetch_html_page(\"https://www.nytimes.com/2017/07/27/world/middleeast/isis-yazidi-women-rape-iraq-mosul-slavery.html\", True)\n",
    "# fetch_html_page(\"https://www.nytimes.com/2017/07/27/opinion/wow-trump-cant-terminate.html\", True)\n",
    "# fetch_html_page(\"https://www.nytimes.com/2017/07/26/us/politics/senate-rejects-repealing-obamacare-without-replacement-trump.html\", True)\n",
    "# fetch_html_page(\"https://www.nytimes.com/2017/07/26/opinion/white-house-lies-cia.html\", True)\n",
    "# fetch_html_page(\"https://www.nytimes.com/2017/07/26/world/asia/dolam-plateau-china-india-bhutan.html\", True)\n",
    "# fetch_html_page(\"https://www.nytimes.com/2017/07/26/opinion/donald-trumps-assault-on-jeff-sessions.html\", True)"
   ]
  },
  {
   "cell_type": "code",
   "execution_count": null,
   "metadata": {
    "collapsed": true,
    "scrolled": false
   },
   "outputs": [],
   "source": [
    "# all_articles_to_files(\"nytimes\", True)"
   ]
  },
  {
   "cell_type": "code",
   "execution_count": null,
   "metadata": {
    "collapsed": true
   },
   "outputs": [],
   "source": [
    "# fetch_html_page(\"https://www.usatoday.com/story/news/world/2017/08/02/cancun-playa-del-carmen-tulum-violent-crime-encroaching/527247001/\", True)\n",
    "# fetch_html_page(\"https://www.usatoday.com/story/news/world/2017/08/02/trumps-scotland-golf-course-neighbors-decry-bully-trying-expand/487073001/\", True)\n",
    "# fetch_html_page(\"https://www.usatoday.com/story/life/music/2017/08/02/kanye-west-files-10-million-lawsuit-over-canceled-saint-pablo-tour/531529001/\", True)\n",
    "# fetch_html_page(\"https://www.usatoday.com/story/news/politics/2017/08/02/president-trump-signs-new-russia-sanctions-bill/532442001/\", True)\n",
    "# fetch_html_page(\"http://college.usatoday.com/2017/08/01/college-women-in-tech-were-encountering-sexism-already/\", True)\n",
    "# fetch_html_page(\"https://www.usatoday.com/story/opinion/2017/08/02/pass-gop-tax-cuts-thanksgiving-get-ready-speaker-nancy-pelosi/529438001/\", True)\n",
    "# fetch_html_page(\"https://www.usatoday.com/story/opinion/2017/08/01/set-health-record-straight-republicans-helped-craft-obamacare-ross-baker-column/523952001/\", True)\n",
    "# fetch_html_page(\"https://www.usatoday.com/story/opinion/2017/08/02/donald-trump-defenders-nothing-offensive-except-anthony-scaramuccis-mouth-kirsten-powers-column/530087001/\", True)"
   ]
  },
  {
   "cell_type": "code",
   "execution_count": null,
   "metadata": {
    "collapsed": true,
    "scrolled": false
   },
   "outputs": [],
   "source": [
    "# all_articles_to_files(\"usatoday\", True)"
   ]
  },
  {
   "cell_type": "code",
   "execution_count": null,
   "metadata": {
    "collapsed": true
   },
   "outputs": [],
   "source": [
    "# fetch_html_page(\"https://www.washingtonpost.com/world/asia_pacific/north-korea-under-no-circumstances-will-give-up-its-nuclear-weapons/2017/08/07/33b8d319-fbb2-4559-8f7d-25e968913712_story.html\", True)\n",
    "# fetch_html_page(\"https://www.washingtonpost.com/news/post-politics/wp/2017/08/07/trump-says-his-political-base-is-stronger-than-ever-despite-polling-to-the-contrary/\", True)\n",
    "# fetch_html_page(\"https://www.washingtonpost.com/news/post-politics/wp/2017/08/07/trump-renews-attack-on-democratic-senator-calling-him-a-vietnam-con-artist-on-twitter/\", True)\n",
    "# fetch_html_page(\"https://www.washingtonpost.com/blogs/plum-line/wp/2017/08/07/as-mueller-closes-in-trump-prepares-his-base-for-the-worst/\", True)\n",
    "# fetch_html_page(\"https://www.washingtonpost.com/news/powerpost/paloma/daily-202/2017/08/07/daily-202-democrats-are-moving-left-and-that-won-t-necessarily-hurt-them-in-2018/5987ab1e30fb045fdaef114d/\", True)\n",
    "# fetch_html_page(\"https://www.washingtonpost.com/politics/apply-by-fax-before-it-can-hire-foreign-workers-trumps-mar-a-lago-club-advertises-at-home--briefly/2017/08/07/7198576c-792f-11e7-9eac-d56bd5568db8_story.html\", True)\n",
    "# fetch_html_page(\"https://www.washingtonpost.com/news/the-fix/wp/2017/08/07/trump-tvs-real-news-sounds-more-like-real-propaganda/\", True)\n",
    "# fetch_html_page(\"https://www.washingtonpost.com/news/energy-environment/wp/2017/08/07/the-arctics-fabled-passage-is-opening-up-this-is-what-it-looks-like/\", True)\n",
    "# fetch_html_page(\"https://www.washingtonpost.com/news/post-nation/wp/2017/08/07/chicago-to-sue-justice-department-over-new-police-grant-rules-targeting-sanctuary-cities/\", True)\n",
    "# fetch_html_page(\"https://www.washingtonpost.com/news/to-your-health/wp/2017/08/07/flesh-eating-sea-bugs-attacked-an-australian-teens-legs-there-was-no-stopping-the-bleeding/\", True)\n",
    "# fetch_html_page(\"https://www.washingtonpost.com/news/worldviews/wp/2017/08/07/british-model-feared-for-her-life-second-by-second-as-kidnappers-allegedly-plotted-online-auction/\", True)"
   ]
  },
  {
   "cell_type": "code",
   "execution_count": null,
   "metadata": {
    "collapsed": true,
    "scrolled": false
   },
   "outputs": [],
   "source": [
    "# all_articles_to_files(\"washingtonpost\", True)"
   ]
  },
  {
   "cell_type": "code",
   "execution_count": null,
   "metadata": {
    "collapsed": true
   },
   "outputs": [],
   "source": [
    "all_articles_to_corpus()"
   ]
  },
  {
   "cell_type": "code",
   "execution_count": null,
   "metadata": {
    "collapsed": true
   },
   "outputs": [],
   "source": []
  },
  {
   "cell_type": "code",
   "execution_count": null,
   "metadata": {
    "collapsed": true
   },
   "outputs": [],
   "source": []
  }
 ],
 "metadata": {
  "kernelspec": {
   "display_name": "Python 3",
   "language": "python",
   "name": "python3"
  },
  "language_info": {
   "codemirror_mode": {
    "name": "ipython",
    "version": 3
   },
   "file_extension": ".py",
   "mimetype": "text/x-python",
   "name": "python",
   "nbconvert_exporter": "python",
   "pygments_lexer": "ipython3",
   "version": "3.6.2"
  }
 },
 "nbformat": 4,
 "nbformat_minor": 2
}
